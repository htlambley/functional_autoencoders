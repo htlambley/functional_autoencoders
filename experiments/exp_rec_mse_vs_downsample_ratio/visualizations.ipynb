{
 "cells": [
  {
   "cell_type": "code",
   "execution_count": 1,
   "metadata": {},
   "outputs": [],
   "source": [
    "import sys\n",
    "\n",
    "sys.path.append(\"..\")\n",
    "sys.path.append(\"../..\")\n",
    "sys.path.append(\"../../src\")\n",
    "\n",
    "import os\n",
    "import matplotlib.pyplot as plt\n",
    "from functional_autoencoders.util import pickle_load\n",
    "from plots import plot_runs_and_medians, set_plot_style_publication"
   ]
  },
  {
   "cell_type": "code",
   "execution_count": 2,
   "metadata": {},
   "outputs": [],
   "source": [
    "DATA_OUTPUT_DIR = \"../../tmp/experiments/exp_rec_mse_vs_downsample_ratio/data\"\n",
    "\n",
    "mse_results = {}\n",
    "for run_idx_str in os.listdir(DATA_OUTPUT_DIR):\n",
    "    result = pickle_load(os.path.join(DATA_OUTPUT_DIR, run_idx_str, \"data.pickle\"))\n",
    "    mse_vs_mask_ratio = result[\"additional_data\"][\"mse_vs_size\"]\n",
    "    for mask_ratio, mse in mse_vs_mask_ratio.items():\n",
    "        if mask_ratio not in mse_results:\n",
    "            mse_results[mask_ratio] = []\n",
    "        mse_results[mask_ratio].append(mse)\n",
    "\n",
    "mse_results_sorted = {\n",
    "    k: v for k, v in sorted(mse_results.items(), key=lambda item: item[0])\n",
    "}"
   ]
  },
  {
   "cell_type": "code",
   "execution_count": 3,
   "metadata": {},
   "outputs": [
    {
     "data": {
      "image/png": "[encoded data removed]",
      "text/plain": [
       "<Figure size 490x260 with 1 Axes>"
      ]
     },
     "metadata": {},
     "output_type": "display_data"
    }
   ],
   "source": [
    "SAVE_DIR = None\n",
    "# SAVE_DIR = '../../figures/rec_mse_vs_downsample_ratio'\n",
    "# os.makedirs(SAVE_DIR, exist_ok=True)\n",
    "\n",
    "set_plot_style_publication()\n",
    "\n",
    "ys = mse_results_sorted\n",
    "\n",
    "fig, ax = plt.subplots(1, 1)\n",
    "plot_runs_and_medians(\n",
    "    ax,\n",
    "    ys,\n",
    "    \"MSE vs Encoder Dim\",\n",
    "    logy=10,\n",
    "    xticklabels=ys.keys(),\n",
    "    labelx=\"Encoder Dim\",\n",
    ")\n",
    "\n",
    "fig.set_size_inches(4.9, 2.6)\n",
    "\n",
    "if SAVE_DIR is not None:\n",
    "    fig.savefig(f\"{SAVE_DIR}/ns_superres.pdf\")"
   ]
  }
 ],
 "metadata": {
  "kernelspec": {
   "display_name": "vano",
   "language": "python",
   "name": "python3"
  },
  "language_info": {
   "codemirror_mode": {
    "name": "ipython",
    "version": 3
   },
   "file_extension": ".py",
   "mimetype": "text/x-python",
   "name": "python",
   "nbconvert_exporter": "python",
   "pygments_lexer": "ipython3",
   "version": "3.11.9"
  }
 },
 "nbformat": 4,
 "nbformat_minor": 2
}
